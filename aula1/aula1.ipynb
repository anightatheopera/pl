{
 "cells": [
  {
   "cell_type": "code",
   "execution_count": 1,
   "metadata": {},
   "outputs": [],
   "source": [
    "def pot_recursiva(b, e):\n",
    "    if e == 0:\n",
    "        return 1\n",
    "    return b * pot_recursiva(b, e-1)\n",
    "\n",
    "def pot_iterativa(b, e):\n",
    "    res:int = 1\n",
    "    for i in range(0,e):\n",
    "        res *= b\n",
    "    return res\n"
   ]
  },
  {
   "cell_type": "code",
   "execution_count": null,
   "metadata": {},
   "outputs": [],
   "source": [
    "def maior(list:list):\n",
    "    res = None\n",
    "    for i in range(0, len(list)):\n",
    "        if res == None or list[i] > res:\n",
    "            res = list[i]        \n",
    "    return res\n",
    "\n",
    "print(maior([1,2,29402,4,20,6,7,8,9,10]))\n"
   ]
  },
  {
   "cell_type": "code",
   "execution_count": 1,
   "metadata": {},
   "outputs": [
    {
     "name": "stdout",
     "output_type": "stream",
     "text": [
      "[1, 2, 3, 4, 5, 6]\n",
      "['yours truly', 'my everything', 'dangerous woman', 'sweetener', 'thank u, next', 'positions']\n"
     ]
    }
   ],
   "source": [
    "def unzip(l):\n",
    "  return [x for x, y in l], [y for x, y in l]\n",
    "\n",
    "lista = [(1, \"yours truly\"), (2, \"my everything\"), (3, \"dangerous woman\"), (4, \"sweetener\"), (5,\"thank u, next\"), (6,\"positions\")]\n",
    "\n",
    "(unzipped1, unzipped2) = unzip(lista)\n",
    "print(unzipped1)\n",
    "print(unzipped2)"
   ]
  }
 ],
 "metadata": {
  "kernelspec": {
   "display_name": "Python 3",
   "language": "python",
   "name": "python3"
  },
  "language_info": {
   "codemirror_mode": {
    "name": "ipython",
    "version": 3
   },
   "file_extension": ".py",
   "mimetype": "text/x-python",
   "name": "python",
   "nbconvert_exporter": "python",
   "pygments_lexer": "ipython3",
   "version": "3.10.9"
  },
  "orig_nbformat": 4,
  "vscode": {
   "interpreter": {
    "hash": "767d51c1340bd893661ea55ea3124f6de3c7a262a8b4abca0554b478b1e2ff90"
   }
  }
 },
 "nbformat": 4,
 "nbformat_minor": 2
}
